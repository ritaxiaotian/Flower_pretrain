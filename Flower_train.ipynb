{
 "cells": [
  {
   "cell_type": "markdown",
   "metadata": {},
   "source": [
    "from https://gogul09.github.io/software/flower-recognition-deep-learning"
   ]
  },
  {
   "cell_type": "markdown",
   "metadata": {},
   "source": [
    "## Start of train.py"
   ]
  },
  {
   "cell_type": "code",
   "execution_count": 27,
   "metadata": {
    "collapsed": true
   },
   "outputs": [],
   "source": [
    "# organize imports\n",
    "from sklearn.metrics import classification_report\n",
    "from sklearn.model_selection import train_test_split\n",
    "from sklearn.linear_model import LogisticRegression\n",
    "from sklearn.ensemble import RandomForestClassifier as RandomForest\n",
    "from sklearn.svm import SVC\n",
    "from sklearn.metrics import confusion_matrix\n",
    "import numpy as np\n",
    "import pickle\n",
    "import h5py\n",
    "import os\n",
    "import json\n",
    "import seaborn as sns\n",
    "import matplotlib.pyplot as plt"
   ]
  },
  {
   "cell_type": "code",
   "execution_count": 28,
   "metadata": {
    "collapsed": true
   },
   "outputs": [],
   "source": [
    "from sklearn.metrics import accuracy_score"
   ]
  },
  {
   "cell_type": "code",
   "execution_count": 29,
   "metadata": {},
   "outputs": [
    {
     "name": "stdout",
     "output_type": "stream",
     "text": [
      "[INFO] features shape: (1360, 2048)\n",
      "[INFO] labels shape: (1360,)\n"
     ]
    }
   ],
   "source": [
    "# load the user configs\n",
    "with open('conf/conf_xception.json') as f:    \n",
    "    config = json.load(f)\n",
    "\n",
    "# config variables\n",
    "test_size = config[\"test_size\"]\n",
    "seed = config[\"seed\"]\n",
    "features_path = config[\"features_path\"]\n",
    "labels_path = config[\"labels_path\"]\n",
    "results = config[\"results\"]\n",
    "classifier_path = config[\"classifier_path\"]\n",
    "train_path = config[\"train_path\"]\n",
    "num_classes = config[\"num_classes\"]\n",
    "\n",
    "# import features and labels\n",
    "h5f_data = h5py.File(features_path, 'r')\n",
    "h5f_label = h5py.File(labels_path, 'r')\n",
    "\n",
    "features_string = h5f_data['dataset_1']\n",
    "labels_string = h5f_label['dataset_1']\n",
    "\n",
    "features = np.array(features_string)\n",
    "labels = np.array(labels_string)\n",
    "\n",
    "h5f_data.close()\n",
    "h5f_label.close()\n",
    "\n",
    "# verify the shape of features and labels\n",
    "print(\"[INFO] features shape: {}\".format(features.shape))\n",
    "print(\"[INFO] labels shape: {}\".format(labels.shape))"
   ]
  },
  {
   "cell_type": "code",
   "execution_count": 30,
   "metadata": {},
   "outputs": [
    {
     "name": "stdout",
     "output_type": "stream",
     "text": [
      "(1360, 2048) (1360,)\n"
     ]
    }
   ],
   "source": [
    "# my logistic regression\n",
    "features_np = np.array(features)\n",
    "labels_np = np.array(labels)\n",
    "print(features_np.shape, labels_np.shape)\n",
    "(trainData, testData, trainLabels, testLabels) = train_test_split(features_np,\n",
    "                                                                  labels_np,\n",
    "                                                                  test_size=0.2, #test_size,\n",
    "                                                                  random_state=seed)"
   ]
  },
  {
   "cell_type": "code",
   "execution_count": 31,
   "metadata": {},
   "outputs": [
    {
     "data": {
      "text/plain": [
       "LogisticRegression(C=1.0, class_weight=None, dual=False, fit_intercept=True,\n",
       "          intercept_scaling=1, max_iter=100, multi_class='ovr', n_jobs=1,\n",
       "          penalty='l2', random_state=9, solver='liblinear', tol=0.0001,\n",
       "          verbose=0, warm_start=False)"
      ]
     },
     "execution_count": 31,
     "metadata": {},
     "output_type": "execute_result"
    }
   ],
   "source": [
    "model_LR = LogisticRegression(random_state=seed)\n",
    "model_LR.fit(trainData, trainLabels)"
   ]
  },
  {
   "cell_type": "code",
   "execution_count": 32,
   "metadata": {},
   "outputs": [
    {
     "data": {
      "text/plain": [
       "RandomForestClassifier(bootstrap=True, class_weight=None, criterion='gini',\n",
       "            max_depth=None, max_features='auto', max_leaf_nodes=None,\n",
       "            min_impurity_decrease=0.0, min_impurity_split=None,\n",
       "            min_samples_leaf=1, min_samples_split=2,\n",
       "            min_weight_fraction_leaf=0.0, n_estimators=100, n_jobs=1,\n",
       "            oob_score=False, random_state=9, verbose=0, warm_start=False)"
      ]
     },
     "execution_count": 32,
     "metadata": {},
     "output_type": "execute_result"
    }
   ],
   "source": [
    "model_RF = RandomForest(n_estimators=100, random_state=seed)\n",
    "model_RF.fit(trainData, trainLabels)"
   ]
  },
  {
   "cell_type": "code",
   "execution_count": 33,
   "metadata": {},
   "outputs": [
    {
     "data": {
      "text/plain": [
       "SVC(C=1.0, cache_size=200, class_weight=None, coef0=0.0,\n",
       "  decision_function_shape='ovr', degree=3, gamma='auto', kernel='rbf',\n",
       "  max_iter=-1, probability=False, random_state=9, shrinking=True,\n",
       "  tol=0.001, verbose=False)"
      ]
     },
     "execution_count": 33,
     "metadata": {},
     "output_type": "execute_result"
    }
   ],
   "source": [
    "model_SVC = SVC(random_state = seed)\n",
    "model_SVC.fit(trainData, trainLabels)"
   ]
  },
  {
   "cell_type": "code",
   "execution_count": 39,
   "metadata": {},
   "outputs": [
    {
     "name": "stdout",
     "output_type": "stream",
     "text": [
      "0.948529411765\n"
     ]
    }
   ],
   "source": [
    "testLabels_pre = model_LR.predict(testData)\n",
    "score_LR = accuracy_score(testLabels, testLabels_pre)\n",
    "# testLabels_pre = model_RF.predict(testData)\n",
    "# score_RF = accuracy_score(testLabels, testLabels_pre)\n",
    "# testLabels_pre = model_SVC.predict(testData)\n",
    "# score_SVC = accuracy_score(testLabels, testLabels_pre)\n",
    "print(score_LR)\n"
   ]
  },
  {
   "cell_type": "code",
   "execution_count": 40,
   "metadata": {},
   "outputs": [
    {
     "name": "stdout",
     "output_type": "stream",
     "text": [
      "0.9485294117647058\n"
     ]
    }
   ],
   "source": [
    "n_test = len(testLabels_pre)\n",
    "n_correct = 0\n",
    "for i, e in enumerate(testLabels_pre):\n",
    "    if e == testLabels[i]:\n",
    "        n_correct += 1\n",
    "print(n_correct/n_test)"
   ]
  },
  {
   "cell_type": "code",
   "execution_count": 41,
   "metadata": {},
   "outputs": [
    {
     "name": "stdout",
     "output_type": "stream",
     "text": [
      "[INFO] creating model...\n",
      "[INFO] evaluating model...\n",
      "15 14\n",
      "3 2\n",
      "3 2\n",
      "6 5\n",
      "3 2\n",
      "2 1\n",
      "6 0\n",
      "6 0\n",
      "7 6\n",
      "5 4\n",
      "2 1\n",
      "5 4\n",
      "8 7\n",
      "15 14\n",
      "4 16\n",
      "16 15\n",
      "1 0\n",
      "10 9\n",
      "8 7\n",
      "5 4\n",
      "8 7\n",
      "8 7\n",
      "12 11\n",
      "5 4\n",
      "12 11\n",
      "15 14\n",
      "1 7\n",
      "4 3\n",
      "2 1\n",
      "14 13\n",
      "3 2\n",
      "1 0\n",
      "2 1\n",
      "5 4\n",
      "4 3\n",
      "11 10\n",
      "5 4\n",
      "10 9\n",
      "17 16\n",
      "14 13\n",
      "1 13\n",
      "5 4\n",
      "17 16\n",
      "10 9\n",
      "2 1\n",
      "10 9\n",
      "17 16\n",
      "10 9\n",
      "6 5\n",
      "13 12\n",
      "6 5\n",
      "13 12\n",
      "1 0\n",
      "9 8\n",
      "11 10\n",
      "10 9\n",
      "16 15\n",
      "9 8\n",
      "5 4\n",
      "13 12\n",
      "4 3\n",
      "12 11\n",
      "10 9\n",
      "9 8\n",
      "13 12\n",
      "6 5\n",
      "15 14\n",
      "14 13\n",
      "1 0\n",
      "17 16\n",
      "9 8\n",
      "13 12\n",
      "4 3\n",
      "16 15\n",
      "13 12\n",
      "4 3\n",
      "8 7\n",
      "10 9\n",
      "10 9\n",
      "4 3\n",
      "3 7\n",
      "5 4\n",
      "8 7\n",
      "12 11\n",
      "5 4\n",
      "3 2\n",
      "7 6\n",
      "17 16\n",
      "17 16\n",
      "11 10\n",
      "14 13\n",
      "1 0\n",
      "10 9\n",
      "8 7\n",
      "2 1\n",
      "4 3\n",
      "11 10\n",
      "16 15\n",
      "16 15\n",
      "16 15\n",
      "3 2\n",
      "8 7\n",
      "14 14\n",
      "13 12\n",
      "16 15\n",
      "10 9\n",
      "7 6\n",
      "15 14\n",
      "9 8\n",
      "14 13\n",
      "7 9\n",
      "1 0\n",
      "14 13\n",
      "15 7\n",
      "10 9\n",
      "10 9\n",
      "1 0\n",
      "14 13\n",
      "2 1\n",
      "6 5\n",
      "9 8\n",
      "11 10\n",
      "16 15\n",
      "17 16\n",
      "6 5\n",
      "16 15\n",
      "7 6\n",
      "11 10\n",
      "3 2\n",
      "13 12\n",
      "16 15\n",
      "2 1\n",
      "13 12\n",
      "17 16\n",
      "9 8\n",
      "8 7\n",
      "13 12\n",
      "10 9\n",
      "15 0\n",
      "1 0\n",
      "13 12\n",
      "7 6\n",
      "11 10\n",
      "7 6\n",
      "15 14\n",
      "17 15\n",
      "12 11\n",
      "1 0\n",
      "16 15\n",
      "13 12\n",
      "12 11\n",
      "12 11\n",
      "7 6\n",
      "3 2\n",
      "9 8\n",
      "15 14\n",
      "11 10\n",
      "4 3\n",
      "13 12\n",
      "4 3\n",
      "2 1\n",
      "15 14\n",
      "5 4\n",
      "12 11\n",
      "1 0\n",
      "13 12\n",
      "15 14\n",
      "16 15\n",
      "5 4\n",
      "1 0\n",
      "4 3\n",
      "17 16\n",
      "2 1\n",
      "5 4\n",
      "7 6\n",
      "16 15\n",
      "6 5\n",
      "11 10\n",
      "2 1\n",
      "16 15\n",
      "14 13\n",
      "13 12\n",
      "8 0\n",
      "3 2\n",
      "3 2\n",
      "8 7\n",
      "11 10\n",
      "1 0\n",
      "13 12\n",
      "6 5\n",
      "9 8\n",
      "17 16\n",
      "7 6\n",
      "4 3\n",
      "14 13\n",
      "8 7\n",
      "11 10\n",
      "15 14\n",
      "11 10\n",
      "16 15\n",
      "2 1\n",
      "7 6\n",
      "8 7\n",
      "1 0\n",
      "12 11\n",
      "15 14\n",
      "8 7\n",
      "2 1\n",
      "14 0\n",
      "2 1\n",
      "7 6\n",
      "14 13\n",
      "7 6\n",
      "17 16\n",
      "14 13\n",
      "10 9\n",
      "16 15\n",
      "16 15\n",
      "10 9\n",
      "4 3\n",
      "7 6\n",
      "13 12\n",
      "9 8\n",
      "10 9\n",
      "16 15\n",
      "15 14\n",
      "7 6\n",
      "2 1\n",
      "7 6\n",
      "7 6\n",
      "9 8\n",
      "17 4\n",
      "3 2\n",
      "16 15\n",
      "14 13\n",
      "15 14\n",
      "2 1\n",
      "2 1\n",
      "4 3\n",
      "15 14\n",
      "11 10\n",
      "13 12\n",
      "10 9\n",
      "4 3\n",
      "12 11\n",
      "17 16\n",
      "15 14\n",
      "9 8\n",
      "11 10\n",
      "4 3\n",
      "15 14\n",
      "2 1\n",
      "10 9\n",
      "2 1\n",
      "5 4\n",
      "13 12\n",
      "2 1\n",
      "2 1\n",
      "16 15\n",
      "14 13\n",
      "10 9\n",
      "9 8\n",
      "7 6\n",
      "2 1\n",
      "6 5\n",
      "10 9\n",
      "3 2\n",
      "5 4\n",
      "1 0\n",
      "7 6\n",
      "16 15\n",
      "9 8\n",
      "rank1 0.3676470588235294, rank544.48529411764706\n"
     ]
    }
   ],
   "source": [
    "# print (\"[INFO] training started...\")\n",
    "# # split the training and testing data\n",
    "# (trainData, testData, trainLabels, testLabels) = train_test_split(np.array(features),\n",
    "#                                                                   np.array(labels),\n",
    "#                                                                   test_size=test_size,\n",
    "#                                                                   random_state=seed)\n",
    "\n",
    "# print (\"[INFO] splitted train and test data...\")\n",
    "# print (\"[INFO] train data  : {}\".format(trainData.shape))\n",
    "# print (\"[INFO] test data   : {}\".format(testData.shape))\n",
    "# print (\"[INFO] train labels: {}\".format(trainLabels.shape))\n",
    "# print (\"[INFO] test labels : {}\".format(testLabels.shape))\n",
    "\n",
    "# use logistic regression as the model\n",
    "print(\"[INFO] creating model...\")\n",
    "model = LogisticRegression(random_state=seed)\n",
    "model.fit(trainData, trainLabels)\n",
    "\n",
    "# use rank-1 and rank-5 predictions\n",
    "print(\"[INFO] evaluating model...\")\n",
    "f = open(results, \"w\")\n",
    "rank_1 = 0\n",
    "rank_5 = 0\n",
    "\n",
    "# loop over test data\n",
    "for (label_i, features_i) in zip(testLabels, testData):\n",
    "    # predict the probability of each class label and\n",
    "    # take the top-5 class labels\n",
    "    predictions = model.predict_proba(np.atleast_2d(features_i))[0]\n",
    "    predictions = np.argsort(predictions)[::-1][:5]\n",
    "    print(label_i,predictions[0])\n",
    "    # rank-1 prediction increment\n",
    "    if label_i == predictions[0]:\n",
    "\n",
    "        rank_1 += 1\n",
    "\n",
    "    # rank-5 prediction increment\n",
    "    if label_i in predictions:\n",
    "        rank_5 += 1\n",
    "rank_1 = (rank_1 / float(len(testLabels))) * 100\n",
    "rank_5 = (rank_5 / float(len(testLabels))) * 100\n",
    "\n",
    "print('rank1 {}, rank5{}'.format(rank_1, rank_5))\n",
    "# # convert accuracies to percentages\n",
    "\n",
    "# write the accuracies to file\n",
    "f.write(\"Rank-1: {:.2f}%\\n\".format(rank_1))\n",
    "f.write(\"Rank-5: {:.2f}%\\n\\n\".format(rank_5))\n",
    "\n",
    "# evaluate the model of test data\n",
    "preds = model.predict(testData)\n",
    "\n",
    "# write the classification report to file\n",
    "f.write(\"{}\\n\".format(classification_report(testLabels, preds)))\n",
    "f.close()"
   ]
  },
  {
   "cell_type": "code",
   "execution_count": 42,
   "metadata": {},
   "outputs": [
    {
     "name": "stdout",
     "output_type": "stream",
     "text": [
      "[INFO] saving model...\n",
      "[INFO] confusion matrix\n"
     ]
    },
    {
     "data": {
      "image/png": "[encoded data removed]",
      "text/plain": [
       "<matplotlib.figure.Figure at 0x7f2c9e47e908>"
      ]
     },
     "metadata": {},
     "output_type": "display_data"
    }
   ],
   "source": [
    "# dump classifier to file\n",
    "print(\"[INFO] saving model...\")\n",
    "#f = open(classifier_path, \"w\")\n",
    "#f.write(pickle.dumps(model))\n",
    "#f.close()\n",
    "\n",
    "# display the confusion matrix\n",
    "print (\"[INFO] confusion matrix\")\n",
    "\n",
    "# get the list of training lables\n",
    "labels = sorted(list(os.listdir(train_path)))\n",
    "\n",
    "# plot the confusion matrix\n",
    "cm = confusion_matrix(testLabels, preds)\n",
    "sns.heatmap(cm,\n",
    "            annot=True,\n",
    "            cmap=\"Set2\")\n",
    "plt.show()"
   ]
  },
  {
   "cell_type": "code",
   "execution_count": null,
   "metadata": {
    "collapsed": true
   },
   "outputs": [],
   "source": []
  }
 ],
 "metadata": {
  "anaconda-cloud": {},
  "kernelspec": {
   "display_name": "Python 3",
   "language": "python",
   "name": "python3"
  },
  "language_info": {
   "codemirror_mode": {
    "name": "ipython",
    "version": 3
   },
   "file_extension": ".py",
   "mimetype": "text/x-python",
   "name": "python",
   "nbconvert_exporter": "python",
   "pygments_lexer": "ipython3",
   "version": "3.6.3"
  }
 },
 "nbformat": 4,
 "nbformat_minor": 2
}
